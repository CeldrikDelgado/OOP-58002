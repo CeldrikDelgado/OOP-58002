{
  "nbformat": 4,
  "nbformat_minor": 0,
  "metadata": {
    "colab": {
      "name": "OOP-2.ipynb",
      "provenance": [],
      "authorship_tag": "ABX9TyOydzBLjfkV8ZK2aD2Dt8/v",
      "include_colab_link": true
    },
    "kernelspec": {
      "name": "python3",
      "display_name": "Python 3"
    },
    "language_info": {
      "name": "python"
    }
  },
  "cells": [
    {
      "cell_type": "markdown",
      "metadata": {
        "id": "view-in-github",
        "colab_type": "text"
      },
      "source": [
        "<a href=\"https://colab.research.google.com/github/CeldrikDelgado/OOP-58002/blob/main/OOP_2.ipynb\" target=\"_parent\"><img src=\"https://colab.research.google.com/assets/colab-badge.svg\" alt=\"Open In Colab\"/></a>"
      ]
    },
    {
      "cell_type": "markdown",
      "source": [
        "Classes with Multiple Objects"
      ],
      "metadata": {
        "id": "sMxZ4XjjUjl-"
      }
    },
    {
      "cell_type": "code",
      "source": [
        "class Birds:\n",
        "  def __init__(self,bird_name):\n",
        "    self.bird_name = bird_name\n",
        "\n",
        "  def flying_birds(self):\n",
        "    print(f\"{self.bird_name} flies above clouds\")\n",
        "\n",
        "  def non_flying_birds(self):\n",
        "    print(f\"{self.bird_name} is the national bird of the Philippines \")\n",
        "\n",
        "vulture = Birds(\"Griffon Vulture\")\n",
        "crane = Birds(\"Common Crane\")\n",
        "emu = Birds(\"Emu\")\n",
        "\n",
        "vulture.flying_birds()\n",
        "crane.flying_birds()\n",
        "emu.non_flying_birds()"
      ],
      "metadata": {
        "colab": {
          "base_uri": "https://localhost:8080/"
        },
        "id": "6kMftFn_UpmF",
        "outputId": "b2278e9b-f396-4235-dff1-0a9536bb533c"
      },
      "execution_count": null,
      "outputs": [
        {
          "output_type": "stream",
          "name": "stdout",
          "text": [
            "Griffon Vulture flies above clouds\n",
            "Common Crane flies above clouds\n",
            "Emu is the national bird of the Philippines \n"
          ]
        }
      ]
    },
    {
      "cell_type": "markdown",
      "source": [
        "Encapsulation ( mangling with double underscores)"
      ],
      "metadata": {
        "id": "Ks54z5huW6Z3"
      }
    },
    {
      "cell_type": "code",
      "source": [
        "class foo:\n",
        "  def __init__(self,a,b):\n",
        "    self.__a = a\n",
        "    self.__b = b\n",
        "\n",
        "  def add(self):\n",
        "    return self.__a + self.__b\n",
        "  def sub(self):\n",
        "    return self.__a - self.__b\n",
        "\n",
        "foo_object = foo(3,4)\n",
        "\n",
        "#print(foo_object.b)\n",
        "print(foo_object.add())  # adding a and b\n",
        "print(foo_object.sub())  # subtracting a and b\n",
        "\n",
        "foo_object.__b = 5\n",
        "foo_object.__a = 7\n",
        "\n",
        "print(foo_object.add())\n",
        "print(foo_object.sub())\n"
      ],
      "metadata": {
        "colab": {
          "base_uri": "https://localhost:8080/"
        },
        "id": "rbMuKpcJW7uV",
        "outputId": "508df811-45ab-4a6e-c4d8-e8e2056476dc"
      },
      "execution_count": null,
      "outputs": [
        {
          "output_type": "stream",
          "name": "stdout",
          "text": [
            "7\n",
            "-1\n",
            "7\n",
            "-1\n"
          ]
        }
      ]
    },
    {
      "cell_type": "markdown",
      "source": [
        "Inheritance"
      ],
      "metadata": {
        "id": "6qKm5XMHa6n7"
      }
    },
    {
      "cell_type": "code",
      "source": [
        "class Person:\n",
        "  def __init__(self,firstname,surname):\n",
        "    self.firstname = firstname\n",
        "    self.surname = surname\n",
        "\n",
        "  def printname(self):\n",
        "    print(self.firstname,self.surname)\n",
        "\n",
        "person = Person(\"Mark Celdrik\",\"Delgado\")\n",
        "person.printname()\n",
        "\n",
        "class Student(Person):\n",
        "  pass\n",
        "\n",
        "person = Student(\"Neil\",\"Olaes\")\n",
        "person.printname()\n"
      ],
      "metadata": {
        "colab": {
          "base_uri": "https://localhost:8080/"
        },
        "id": "fs2POl-Va7rg",
        "outputId": "99df1b5e-5d7e-4e7f-d947-d3344b7b3eb2"
      },
      "execution_count": null,
      "outputs": [
        {
          "output_type": "stream",
          "name": "stdout",
          "text": [
            "Mark Celdrik Delgado\n",
            "Neil Olaes\n"
          ]
        }
      ]
    },
    {
      "cell_type": "markdown",
      "source": [
        "Polymorphism"
      ],
      "metadata": {
        "id": "ArOSoY5KclGV"
      }
    },
    {
      "cell_type": "code",
      "source": [
        "class RegularPolygon:\n",
        "   def __init__(self,side):\n",
        "     self.side = side\n",
        "class Square(RegularPolygon):\n",
        "   def area(self):\n",
        "    return self.side * self.side\n",
        "class EquilateralTriangle(RegularPolygon):\n",
        "   def area(self):\n",
        "    return self.side * self.side * 0.433\n",
        "\n",
        "x = Square(4)\n",
        "y = EquilateralTriangle(3)\n",
        "\n",
        "print(x.area())\n",
        "print(y.area())"
      ],
      "metadata": {
        "colab": {
          "base_uri": "https://localhost:8080/"
        },
        "id": "-ZD9lsrbcnwj",
        "outputId": "1c899e85-3a57-4d4c-affb-93d3090303e4"
      },
      "execution_count": null,
      "outputs": [
        {
          "output_type": "stream",
          "name": "stdout",
          "text": [
            "16\n",
            "3.897\n"
          ]
        }
      ]
    },
    {
      "cell_type": "markdown",
      "source": [
        "Application 1"
      ],
      "metadata": {
        "id": "Kj5h1A_YeuJ4"
      }
    },
    {
      "cell_type": "markdown",
      "source": [
        "1. Create a Python program that displays the name of  three students (Student 1, Student 2, Student 3) and their term grades\n",
        "2. Create a class name Person and attributes - std1,std2,std3,pre,mid,fn\n",
        "3. Compute the average of each item grade using Grade() method\n",
        "4. Information about student's grades must be hidden from others"
      ],
      "metadata": {
        "id": "z76aeGWBe6aN"
      }
    },
    {
      "cell_type": "code",
      "source": [
        "class Person:\n",
        "  def __init__(self,std1,std2,std3,pre,mid,fin):\n",
        "    self.std1 = std1\n",
        "    self.std2 = std2\n",
        "    self.std3 = std3\n",
        "    self.pre = pre\n",
        "    self.mid = mid\n",
        "    self.fin = fin\n",
        "\n",
        "Student1 = { \"name\":\"Student 1\",\n",
        "\t\t\"Prelim\" : [88],\n",
        "\t\t\"Midterm\" : [90],\n",
        "\t\t\"Final\" : [89]\n",
        "\t}\n",
        "\t\t\n",
        "Student2 = { \"name\":\"Student 2\",\n",
        "\t\t\"Prelim\" : [85],\n",
        "\t\t\"Midterm\" : [81],\n",
        "\t\t\"Final\" : [90.5]\n",
        "\t\t}\n",
        "\n",
        "Student3 = { \"name\" : \"Student 3\",\n",
        "\t\t\"Prelim\" : [89],\n",
        "\t\t\"Midterm\" : [94],\n",
        "\t\t\"Final\" : [97]\n",
        "\t\t}\n",
        "\n",
        "def get_average(marks):\n",
        "\ttotal_sum = sum(marks)\n",
        "\ttotal_sum = float(total_sum)\n",
        "\treturn total_sum / len(marks)\n",
        "\t\n",
        " \n",
        "def calculate_total_average(students):\n",
        "\tPrelim = get_average(students[\"Prelim\"])\n",
        "\tMidterm = get_average(students[\"Midterm\"])\n",
        "\tFinal = get_average(students[\"Final\"])\n",
        "\treturn (0.3 * Prelim + 0.3 * Midterm + 0.4 * Final)\n",
        "\n",
        "students = [Student1, Student2, Student3]\n",
        "\n",
        "for i in students :\n",
        "  print(i[\"name\"])\n",
        "  print(\"Prelim Marks of %s is : %s \" %(i[\"name\"],\n",
        "    calculate_total_average(i)))\n",
        "\n",
        "for i in students :\n",
        "  print(i[\"name\"])\n",
        "  print(\"Midterm Marks of %s is : %s \" %(i[\"name\"],\n",
        "    calculate_total_average(i)))\n",
        "\n",
        "for i in students :\n",
        "  print(i[\"name\"])\n",
        "  print(\"Final Marks of %s is : %s \" %(i[\"name\"],\n",
        "    calculate_total_average(i)))"
      ],
      "metadata": {
        "colab": {
          "base_uri": "https://localhost:8080/"
        },
        "id": "kAOEqtzalsQQ",
        "outputId": "08b15341-447e-4aa8-c4bf-a9069fc12ccf"
      },
      "execution_count": null,
      "outputs": [
        {
          "output_type": "stream",
          "name": "stdout",
          "text": [
            "Student 1\n",
            "Prelim Marks of Student 1 is : 89.0 \n",
            "Student 2\n",
            "Prelim Marks of Student 2 is : 86.0 \n",
            "Student 3\n",
            "Prelim Marks of Student 3 is : 93.7 \n",
            "Student 1\n",
            "Midterm Marks of Student 1 is : 89.0 \n",
            "Student 2\n",
            "Midterm Marks of Student 2 is : 86.0 \n",
            "Student 3\n",
            "Midterm Marks of Student 3 is : 93.7 \n",
            "Student 1\n",
            "Final Marks of Student 1 is : 89.0 \n",
            "Student 2\n",
            "Final Marks of Student 2 is : 86.0 \n",
            "Student 3\n",
            "Final Marks of Student 3 is : 93.7 \n"
          ]
        }
      ]
    }
  ]
}