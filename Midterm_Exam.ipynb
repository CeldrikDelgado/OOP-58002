{
  "nbformat": 4,
  "nbformat_minor": 0,
  "metadata": {
    "colab": {
      "name": "Midterm Exam.ipynb",
      "provenance": [],
      "authorship_tag": "ABX9TyOXbMHC2yfbMAZyy81jbmKX",
      "include_colab_link": true
    },
    "kernelspec": {
      "name": "python3",
      "display_name": "Python 3"
    },
    "language_info": {
      "name": "python"
    }
  },
  "cells": [
    {
      "cell_type": "markdown",
      "metadata": {
        "id": "view-in-github",
        "colab_type": "text"
      },
      "source": [
        "<a href=\"https://colab.research.google.com/github/CeldrikDelgado/OOP-58002/blob/main/Midterm_Exam.ipynb\" target=\"_parent\"><img src=\"https://colab.research.google.com/assets/colab-badge.svg\" alt=\"Open In Colab\"/></a>"
      ]
    },
    {
      "cell_type": "code",
      "execution_count": 18,
      "metadata": {
        "colab": {
          "base_uri": "https://localhost:8080/"
        },
        "id": "FgaPkvkIXSfx",
        "outputId": "e3afdd38-30c4-4ad8-e0f0-c8f47c742816"
      },
      "outputs": [
        {
          "output_type": "stream",
          "name": "stdout",
          "text": [
            "Enter the temperature in Celsius: 30\n",
            "303.15 Kelvin\n",
            "86.0 Fahrenheit\n",
            "Enter the temperature in Kelvin: 12\n",
            "-261.15 Celsius\n",
            "-438.07 Fahrenheit\n",
            "Enter the temperature in Fahrenheit: 42\n",
            "5.555555555555555 Celsius\n",
            "278.7055555555555 Kelvin\n"
          ]
        }
      ],
      "source": [
        "def main():\n",
        "    class TemperatureConversion:\n",
        "\n",
        "        def __init__(self, temp=1):\n",
        "            self._temp = temp\n",
        "\n",
        "    class CelsiusToFahrenheit(TemperatureConversion):\n",
        "\n",
        "        def conversion(self):\n",
        "            return (self._temp * 9) / 5 + 32\n",
        "\n",
        "    class CelsiusToKelvin(TemperatureConversion):\n",
        "\n",
        "        def conversion(self):\n",
        "            return self._temp + 273.15\n",
        "\n",
        "    class FahrenheitToCelsius(TemperatureConversion):\n",
        "\n",
        "        def conversion(self):\n",
        "            return (self._temp - 32) * 5/9\n",
        "\n",
        "    class FahrenheitToKelvin(TemperatureConversion):\n",
        "\n",
        "        def conversion(self):\n",
        "            return (self._temp - 32) * 5/9 + 273.15\n",
        "\n",
        "    class KelvinToCelsius(TemperatureConversion):\n",
        "\n",
        "        def conversion(self):\n",
        "            return self._temp - 273.15\n",
        "\n",
        "    class KelvinToFahrenheit(TemperatureConversion):\n",
        "\n",
        "        def conversion(self):\n",
        "            return ((self._temp - 273.15) * 9) / 5 + 32\n",
        "\n",
        "    tempInCelsius = float(input(\"Enter the temperature in Celsius: \"))\n",
        "\n",
        "    convert = CelsiusToKelvin(tempInCelsius)\n",
        "\n",
        "    print(str(convert.conversion()) + \" Kelvin\")\n",
        "\n",
        "    convert = CelsiusToFahrenheit(tempInCelsius)\n",
        "\n",
        "    print(str(convert.conversion()) + \" Fahrenheit\")\n",
        "\n",
        "    tempInKelvin = float(input(\"Enter the temperature in Kelvin: \"))\n",
        "\n",
        "    convert = KelvinToCelsius(tempInKelvin)\n",
        "\n",
        "    print(str(convert.conversion()) + \" Celsius\")\n",
        "\n",
        "    convert = KelvinToFahrenheit(tempInKelvin)\n",
        "\n",
        "    print(str(convert.conversion()) + \" Fahrenheit\")\n",
        "\n",
        "\n",
        "    tempInFahrenheit = float(input(\"Enter the temperature in Fahrenheit: \"))\n",
        "\n",
        "    convert = FahrenheitToCelsius(tempInFahrenheit)\n",
        "\n",
        "    print(str(convert.conversion()) + \" Celsius\")\n",
        "\n",
        "    convert = FahrenheitToKelvin(tempInFahrenheit)\n",
        "\n",
        "    print(str(convert.conversion()) + \" Kelvin\")\n",
        "main()"
      ]
    }
  ]
}