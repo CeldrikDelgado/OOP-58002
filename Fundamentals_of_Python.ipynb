{
  "nbformat": 4,
  "nbformat_minor": 0,
  "metadata": {
    "colab": {
      "name": "Fundamentals of Python.ipynb",
      "provenance": [],
      "authorship_tag": "ABX9TyOAQsguuY27BaNsifQpdz/a",
      "include_colab_link": true
    },
    "kernelspec": {
      "name": "python3",
      "display_name": "Python 3"
    },
    "language_info": {
      "name": "python"
    }
  },
  "cells": [
    {
      "cell_type": "markdown",
      "metadata": {
        "id": "view-in-github",
        "colab_type": "text"
      },
      "source": [
        "<a href=\"https://colab.research.google.com/github/CeldrikDelgado/OOP-58002/blob/main/Fundamentals_of_Python.ipynb\" target=\"_parent\"><img src=\"https://colab.research.google.com/assets/colab-badge.svg\" alt=\"Open In Colab\"/></a>"
      ]
    },
    {
      "cell_type": "markdown",
      "source": [
        "Python Identation"
      ],
      "metadata": {
        "id": "g6oqIDI9PSiv"
      }
    },
    {
      "cell_type": "code",
      "source": [
        "if 5<2:\n",
        "  print(yes)"
      ],
      "metadata": {
        "id": "MPb8mgbdP_q8"
      },
      "execution_count": null,
      "outputs": []
    },
    {
      "cell_type": "code",
      "source": [
        "x = \"Sally\"\n",
        "\n",
        "a = 0\n",
        "a,b,c=0,1,2\n",
        "\n",
        "print(x)\n",
        "print(a)\n",
        "print(b)\n",
        "print(c)"
      ],
      "metadata": {
        "id": "3pM2QY-JQgq6",
        "colab": {
          "base_uri": "https://localhost:8080/"
        },
        "outputId": "94d7bc22-7725-48cf-e9bd-9a5d1cc9a604"
      },
      "execution_count": null,
      "outputs": [
        {
          "output_type": "stream",
          "name": "stdout",
          "text": [
            "Sally\n",
            "0\n",
            "1\n",
            "2\n"
          ]
        }
      ]
    },
    {
      "cell_type": "markdown",
      "source": [
        "Type()Function"
      ],
      "metadata": {
        "id": "OxYawZStRNZJ"
      }
    },
    {
      "cell_type": "code",
      "source": [
        "d = 4\n",
        "d = int(4)\n",
        "print(type(d))"
      ],
      "metadata": {
        "colab": {
          "base_uri": "https://localhost:8080/"
        },
        "id": "Ig54JJF-RSGZ",
        "outputId": "e208fb43-9e48-4fe1-c75b-0e24e302ae00"
      },
      "execution_count": null,
      "outputs": [
        {
          "output_type": "stream",
          "name": "stdout",
          "text": [
            "<class 'int'>\n"
          ]
        }
      ]
    },
    {
      "cell_type": "code",
      "source": [
        "#y = \"Ana\"\n",
        "#print(y)\n",
        "\n",
        "y = \"Ana\"\n",
        "print(y)"
      ],
      "metadata": {
        "colab": {
          "base_uri": "https://localhost:8080/"
        },
        "id": "Ur1Ph6gcRWkv",
        "outputId": "90fa39fa-0f15-4fba-e8b7-128525c3edd3"
      },
      "execution_count": null,
      "outputs": [
        {
          "output_type": "stream",
          "name": "stdout",
          "text": [
            "Ana\n"
          ]
        }
      ]
    },
    {
      "cell_type": "markdown",
      "source": [
        "Multiple Variable with one value"
      ],
      "metadata": {
        "id": "lMUGDDaCRc1_"
      }
    },
    {
      "cell_type": "code",
      "source": [
        "#x = \"Tony\"\n",
        "k=l=m=\"Tony\"\n",
        "print(k)\n",
        "print(l)\n",
        "print(m)\n",
        "print(k,l,m)"
      ],
      "metadata": {
        "colab": {
          "base_uri": "https://localhost:8080/"
        },
        "id": "AL4MVtPzRdo3",
        "outputId": "eb22855c-97f5-4967-f10a-3c03c0b86ddf"
      },
      "execution_count": null,
      "outputs": [
        {
          "output_type": "stream",
          "name": "stdout",
          "text": [
            "Tony\n",
            "Tony\n",
            "Tony\n",
            "Tony Tony Tony\n"
          ]
        }
      ]
    },
    {
      "cell_type": "code",
      "source": [
        "print(\"Python programming is enjoying\")\n",
        "\n",
        "h = \"enjoying\"\n",
        "p =\"Python programming is\"\n",
        "print(\"Python programming is \"+ h)\n",
        "print(p+\" \"+h)"
      ],
      "metadata": {
        "colab": {
          "base_uri": "https://localhost:8080/"
        },
        "id": "SSXOw7fiRisY",
        "outputId": "6977177d-2d3c-4801-9e58-4bcc7f7fda29"
      },
      "execution_count": null,
      "outputs": [
        {
          "output_type": "stream",
          "name": "stdout",
          "text": [
            "Python programming is enjoying\n",
            "Python programming is enjoying\n",
            "Python programming is enjoying\n"
          ]
        }
      ]
    },
    {
      "cell_type": "markdown",
      "source": [
        "Arithmetic Operations"
      ],
      "metadata": {
        "id": "-mD6k545Rl0H"
      }
    },
    {
      "cell_type": "code",
      "source": [
        "print(c+d) #c=2, d=4\n",
        "print(d-c)\n",
        "print(d*c)\n",
        "print(d/c)\n",
        "print(d%c)"
      ],
      "metadata": {
        "colab": {
          "base_uri": "https://localhost:8080/"
        },
        "id": "aT_dcWPHRmV3",
        "outputId": "90b9904a-3c8c-4053-cb33-1c824ba88ee9"
      },
      "execution_count": null,
      "outputs": [
        {
          "output_type": "stream",
          "name": "stdout",
          "text": [
            "6\n",
            "2\n",
            "8\n",
            "2.0\n",
            "0\n"
          ]
        }
      ]
    },
    {
      "cell_type": "markdown",
      "source": [
        "Assignment Operators"
      ],
      "metadata": {
        "id": "tKlQM0EYRqjX"
      }
    },
    {
      "cell_type": "code",
      "source": [
        "q=10\n",
        "print(q+5)\n",
        "\n",
        "print(q)"
      ],
      "metadata": {
        "colab": {
          "base_uri": "https://localhost:8080/"
        },
        "id": "ONX6AP_IRr-3",
        "outputId": "c08a29bc-09da-47a5-d3fd-68ecb0e89389"
      },
      "execution_count": null,
      "outputs": [
        {
          "output_type": "stream",
          "name": "stdout",
          "text": [
            "15\n",
            "10\n"
          ]
        }
      ]
    },
    {
      "cell_type": "markdown",
      "source": [
        "Boolean Logic"
      ],
      "metadata": {
        "id": "jQc2wSQzRuhh"
      }
    },
    {
      "cell_type": "code",
      "source": [
        "s = 10\n",
        "print(s^2)\n",
        "print(s|2)"
      ],
      "metadata": {
        "colab": {
          "base_uri": "https://localhost:8080/"
        },
        "id": "u4LsHWj4RvJu",
        "outputId": "bbf7b5e2-1809-45ec-de12-e7aba8fee2c7"
      },
      "execution_count": null,
      "outputs": [
        {
          "output_type": "stream",
          "name": "stdout",
          "text": [
            "8\n",
            "10\n"
          ]
        }
      ]
    },
    {
      "cell_type": "markdown",
      "source": [
        "Comparison Operators"
      ],
      "metadata": {
        "id": "YdPdZJehRzn2"
      }
    },
    {
      "cell_type": "code",
      "source": [
        "print(s>q)\n",
        "print(s==s)\n",
        "print(q==q)"
      ],
      "metadata": {
        "colab": {
          "base_uri": "https://localhost:8080/"
        },
        "id": "mDsQotHjR0bG",
        "outputId": "82405ab9-170d-414e-9550-80a12be5bff1"
      },
      "execution_count": null,
      "outputs": [
        {
          "output_type": "stream",
          "name": "stdout",
          "text": [
            "False\n",
            "True\n",
            "True\n"
          ]
        }
      ]
    },
    {
      "cell_type": "markdown",
      "source": [
        "Logical Operators\n",
        "\n"
      ],
      "metadata": {
        "id": "MhRMGly5R4Zu"
      }
    },
    {
      "cell_type": "code",
      "source": [
        "s>q and s==s\n",
        "s>q or s==s\n",
        "\n",
        "print(s>q and s==s)\n",
        "print(s>q or s==s)"
      ],
      "metadata": {
        "colab": {
          "base_uri": "https://localhost:8080/"
        },
        "id": "F3ubaAL1R5d-",
        "outputId": "7d7c751e-d2c1-4010-a180-cd3f95cba701"
      },
      "execution_count": null,
      "outputs": [
        {
          "output_type": "stream",
          "name": "stdout",
          "text": [
            "False\n",
            "True\n"
          ]
        }
      ]
    },
    {
      "cell_type": "markdown",
      "source": [
        "Identity Operators"
      ],
      "metadata": {
        "id": "vAZA85eAR99I"
      }
    },
    {
      "cell_type": "code",
      "source": [
        "s is q\n",
        "print(s is not q)"
      ],
      "metadata": {
        "colab": {
          "base_uri": "https://localhost:8080/"
        },
        "id": "TgzXZvFVR-lt",
        "outputId": "2e98ccc5-0f8f-4170-be22-843641d31b00"
      },
      "execution_count": null,
      "outputs": [
        {
          "output_type": "stream",
          "name": "stdout",
          "text": [
            "False\n"
          ]
        }
      ]
    },
    {
      "cell_type": "markdown",
      "source": [
        "Bitwise Operator Shift right"
      ],
      "metadata": {
        "id": "G_mpHHeESFq9"
      }
    },
    {
      "cell_type": "code",
      "source": [
        "u = 2\n",
        "print(u<<1)"
      ],
      "metadata": {
        "colab": {
          "base_uri": "https://localhost:8080/"
        },
        "id": "eefv6PIiSGMt",
        "outputId": "52c4af51-0ea7-4b16-89b3-bc62efad9f00"
      },
      "execution_count": null,
      "outputs": [
        {
          "output_type": "stream",
          "name": "stdout",
          "text": [
            "4\n"
          ]
        }
      ]
    }
  ]
}