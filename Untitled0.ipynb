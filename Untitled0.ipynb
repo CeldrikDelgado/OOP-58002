{
  "cells": [
    {
      "cell_type": "markdown",
      "metadata": {
        "id": "view-in-github",
        "colab_type": "text"
      },
      "source": [
        "<a href=\"https://colab.research.google.com/github/CeldrikDelgado/OOP-58002/blob/main/Untitled0.ipynb\" target=\"_parent\"><img src=\"https://colab.research.google.com/assets/colab-badge.svg\" alt=\"Open In Colab\"/></a>"
      ]
    },
    {
      "cell_type": "code",
      "execution_count": null,
      "metadata": {
        "id": "d2fTNlKu6dNn",
        "colab": {
          "base_uri": "https://localhost:8080/"
        },
        "outputId": "77271c8c-3f44-45c6-d8ed-c4440225d357"
      },
      "outputs": [
        {
          "output_type": "stream",
          "name": "stdout",
          "text": [
            "Enter temperature in Celsius:28\n",
            "Temperature in Fahrenheit is: 82.4\n",
            "Temperature value in degree Fahrenheit: 82.4\n",
            "The 82.40 degree Celsius is equal to: 28.00 Celsius\n"
          ]
        }
      ],
      "source": [
        "celsius=int(input(\"Enter temperature in Celsius:\"))\n",
        "fahrenheit=celsius*9/5+32\n",
        "print(\"Temperature in Fahrenheit is:\",fahrenheit)\n",
        "\n",
        "Fahrenheit = float( input(\"Temperature value in degree Fahrenheit: \" ))  \n",
        "celsius = (Fahrenheit - 32) * 5/9 \n",
        "\n",
        "# Print the result  \n",
        "print('The %.2f degree Celsius is equal to: %.2f Celsius'  \n",
        "      %(Fahrenheit, celsius))\n",
        "\n"
      ]
    }
  ],
  "metadata": {
    "colab": {
      "collapsed_sections": [],
      "name": "Untitled0.ipynb",
      "provenance": [],
      "authorship_tag": "ABX9TyNwe1uRUqooWDxv/bxAL3jS",
      "include_colab_link": true
    },
    "kernelspec": {
      "display_name": "Python 3",
      "name": "python3"
    },
    "language_info": {
      "name": "python"
    }
  },
  "nbformat": 4,
  "nbformat_minor": 0
}